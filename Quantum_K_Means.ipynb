{
  "cells": [
    {
      "cell_type": "markdown",
      "id": "QsUYbDy9ri4b",
      "metadata": {
        "id": "QsUYbDy9ri4b"
      },
      "source": [
        "# $$⚛ \\space Quantum \\space K-Means\\space Clustering $$"
      ]
    },
    {
      "cell_type": "code",
      "execution_count": 2,
      "id": "0ec6805a-a351-46ba-a293-356dcde831b2",
      "metadata": {
        "id": "0ec6805a-a351-46ba-a293-356dcde831b2"
      },
      "outputs": [],
      "source": [
        "from numpy import ndarray\n",
        "import numpy as np\n",
        "\n",
        "import matplotlib.pylab as plt\n",
        "import seaborn as sns\n",
        "import pandas as pd\n",
        "\n",
        "from sklearn.metrics import silhouette_score\n",
        "\n",
        "from typing import Union, Optional"
      ]
    },
    {
      "cell_type": "code",
      "execution_count": 3,
      "id": "e1aca70a-2bd0-4a9c-9527-04781deca86f",
      "metadata": {
        "id": "e1aca70a-2bd0-4a9c-9527-04781deca86f"
      },
      "outputs": [],
      "source": [
        "from qiskit.circuit.library import (\n",
        "                        RXGate, RYGate, ZGate , XGate, YGate\n",
        "                        )\n",
        "from qiskit.visualization import array_to_latex"
      ]
    },
    {
      "cell_type": "markdown",
      "id": "25WsTCaxrapD",
      "metadata": {
        "id": "25WsTCaxrapD"
      },
      "source": [
        "## Classical Clustering\n",
        "\n",
        "- determine the number of clusters\n",
        "- randomly initialize the centroids\n",
        "- measure distances between data points and the centroids >> Fidelity\n",
        "- assign data points to the nearest centroid\n",
        "- update the position of the centroid according to the mean of each cluster"
      ]
    },
    {
      "cell_type": "code",
      "execution_count": 4,
      "id": "vvom75xYwFpf",
      "metadata": {
        "id": "vvom75xYwFpf"
      },
      "outputs": [],
      "source": [
        "def kMeansInitCentroids(X : ndarray[float], K: int) -> ndarray[float]:\n",
        "    \"\"\"Initialize the centroids of the clusters.\n",
        "\n",
        "    Returns an initial centroid for each cluster.\n",
        "\n",
        "    Parameters\n",
        "    ----------\n",
        "    X : numpy.ndarray, shape=(M, N)\n",
        "        Data vector.\n",
        "\n",
        "    K : int\n",
        "        Number of clusters.\n",
        "\n",
        "    Returns\n",
        "    -------\n",
        "    numpy.ndarray, shape=(K, N)\n",
        "        Initial centroids.\n",
        "    \"\"\"\n",
        "\n",
        "    m = X.shape[0]\n",
        "    idx = np.random.choice(m, K, replace=False)\n",
        "    centroids = X[idx]\n",
        "\n",
        "    return centroids\n",
        "\n",
        "\n",
        "\n",
        "def computeCentroids(X : ndarray[float] , idx : ndarray[int] , K : int = 2) -> ndarray[float] :\n",
        "    \"\"\"Update the centroids of the clusters.\n",
        "\n",
        "    Returns a new centroid for each cluster.\n",
        "\n",
        "    Parameters\n",
        "    ----------\n",
        "    X : numpy.ndarray, shape=(M, N)\n",
        "        Encoded Data vector.\n",
        "\n",
        "    idx : numpy.ndarray, shape=(M, )\n",
        "        Represent the cluster each point is assigned to.\n",
        "\n",
        "    K : int\n",
        "        Number of clusters.\n",
        "\n",
        "    Returns\n",
        "    -------\n",
        "    numpy.ndarray, shape=(K, N)\n",
        "        Updated centroids.\n",
        "    \"\"\" \n",
        "\n",
        "    n = X.shape[1]\n",
        "    centroids = np.zeros((K, n))\n",
        "\n",
        "    for i in range(K):\n",
        "        cluster_points = X[idx == i]\n",
        "        if len(cluster_points) > 0:\n",
        "            centroids[i] = np.mean(cluster_points, axis=0)\n",
        "\n",
        "    return centroids\n",
        "\n",
        "\n",
        "def findClosestCentroids(X : ndarray[float], centroids : ndarray[float]) -> ndarray[int]:\n",
        "    \"\"\"Find the closest centroids for each point.\n",
        "\n",
        "    Returns an array where each point is assigned to the closest cluster.\n",
        "\n",
        "    Parameters\n",
        "    ----------\n",
        "    X : numpy.ndarray, shape=(M, N)\n",
        "        Data vector.\n",
        "\n",
        "\n",
        "    centroids : numpy.ndarray, shape=(K, N)\n",
        "        Represent the encoded centroids.\n",
        "\n",
        "    Returns\n",
        "    -------\n",
        "    numpy.ndarray, shape=(M, )\n",
        "        Array where each point is assigned to the closest cluster.\n",
        "    \"\"\" \n",
        "    m = X.shape[0]\n",
        "    closest_centroids = np.zeros(m)\n",
        "\n",
        "    for i in range(m):\n",
        "        distances = np.linalg.norm(X[i] - centroids, axis=1)\n",
        "        closest_centroids[i] = np.argmin(distances)\n",
        "\n",
        "    return closest_centroids\n",
        "\n",
        "\n",
        "def k_means(X : ndarray[float], k: int = 2, max_iter : int = 300) -> tuple[ndarray[float], ndarray[int]]:\n",
        "    \"\"\"K-Means algorithm for clustring the data into K clusters.\n",
        "\n",
        "    Returns the centroids and an array where each point is assigned to the closest cluster.\n",
        "\n",
        "    Parameters\n",
        "    ----------\n",
        "    X : numpy.ndarray, shape=(M, N)\n",
        "        Data vector.\n",
        "        \n",
        "    K : int\n",
        "        Number of clusters.\n",
        "        \n",
        "    max_iter : int\n",
        "        Number of iteration.\n",
        "        \n",
        "\n",
        "    Returns\n",
        "    -------\n",
        "    numpy.ndarray, shape=(K, N)\n",
        "        The centroids.\n",
        "    \n",
        "    numpy.ndarray, shape=(M, )\n",
        "        Array where each point is assigned to the closest cluster.\n",
        "    \"\"\" \n",
        "\n",
        "    centroids = kMeansInitCentroids(X, k)\n",
        "    for _ in range(max_iter):\n",
        "        idx = findClosestCentroids(X, centroids)\n",
        "        centroids = computeCentroids(X, idx, k)\n",
        "\n",
        "    return centroids, idx"
      ]
    },
    {
      "cell_type": "markdown",
      "id": "83acd0ab",
      "metadata": {},
      "source": [
        "#### Create The Dataset"
      ]
    },
    {
      "cell_type": "code",
      "execution_count": 5,
      "id": "CUB4q4Saz2Yi",
      "metadata": {
        "colab": {
          "base_uri": "https://localhost:8080/",
          "height": 447
        },
        "id": "CUB4q4Saz2Yi",
        "outputId": "d5330985-4616-4076-8152-7effaf37042a"
      },
      "outputs": [
        {
          "data": {
            "image/png": "[encoded data removed]",
            "text/plain": [
              "<Figure size 640x480 with 1 Axes>"
            ]
          },
          "metadata": {},
          "output_type": "display_data"
        }
      ],
      "source": [
        "#### Implement a function to create the datasets\n",
        "def CreateDataset(mean1 : float, mean2 : float, std1 : float, \n",
        "                  std2 : float, n_samples : int = 100) -> tuple[ndarray]:\n",
        "    \"\"\"\n",
        "    Create a normally distributed datasets.\n",
        "\n",
        "    Parameters\n",
        "    ----------\n",
        "    mean1 : float\n",
        "        Mean of the first dataset.\n",
        "    \n",
        "    mean2 : float\n",
        "        Mean of the second dataset.\n",
        "\n",
        "    std1 : float\n",
        "        Standard deviation of the first dataset.\n",
        "\n",
        "    std2 : float\n",
        "        Standard deviation of the second dataset.\n",
        "\n",
        "    n_samples : int\n",
        "        Number of samples required for each dataset.\n",
        "    \"\"\"\n",
        "\n",
        "    x1 = np.random.normal(mean1, std1, n_samples)\n",
        "    y1 = np.ones(len(x1))\n",
        "\n",
        "    x2 = np.random.normal(mean2, std2, n_samples)\n",
        "    y2 = np.zeros(len(x2))\n",
        "\n",
        "    return x1, x2, y1, y2\n",
        "\n",
        "#### Creating the datasets\n",
        "x1, x2, y1, y2 = CreateDataset(2, -2, .1, .1, 100)\n",
        "\n",
        "#### Visualize the dataset\n",
        "plt.scatter(x1, y1)\n",
        "plt.scatter(x2, y2);"
      ]
    },
    {
      "cell_type": "markdown",
      "id": "Pmve7tbz0aeM",
      "metadata": {
        "id": "Pmve7tbz0aeM"
      },
      "source": [
        "### Testing Classical Clustering\n"
      ]
    },
    {
      "cell_type": "code",
      "execution_count": 6,
      "id": "gG5gZnrP1P5d",
      "metadata": {
        "id": "gG5gZnrP1P5d"
      },
      "outputs": [
        {
          "data": {
            "text/plain": [
              "((200, 1), (200, 1), (200, 2))"
            ]
          },
          "execution_count": 6,
          "metadata": {},
          "output_type": "execute_result"
        }
      ],
      "source": [
        "#### Data preprocesing (concatenation)\n",
        "X = np.concatenate((x1,x2)).reshape(-1,1)\n",
        "Y = np.concatenate((y1,y2)).reshape(-1,1)\n",
        "Data = np.concatenate((X,Y), axis = 1)\n",
        "\n",
        "#### Validate the shapes\n",
        "X.shape, Y.shape, Data.shape"
      ]
    },
    {
      "cell_type": "code",
      "execution_count": 7,
      "id": "4bc07b2a",
      "metadata": {},
      "outputs": [],
      "source": [
        "#### Running the Classical K-Means\n",
        "centroids, idx = k_means(X, 2)"
      ]
    },
    {
      "cell_type": "markdown",
      "id": "8d87c6ba",
      "metadata": {},
      "source": [
        "### Create Visualize Function"
      ]
    },
    {
      "cell_type": "code",
      "execution_count": 8,
      "id": "pfhM4k1j3vI4",
      "metadata": {
        "colab": {
          "base_uri": "https://localhost:8080/",
          "height": 447
        },
        "id": "pfhM4k1j3vI4",
        "outputId": "e3fdbc1d-dca2-42c7-dff5-73be1000af4d"
      },
      "outputs": [
        {
          "data": {
            "image/png": "[encoded data removed]",
            "text/plain": [
              "<Figure size 640x480 with 1 Axes>"
            ]
          },
          "metadata": {},
          "output_type": "display_data"
        }
      ],
      "source": [
        "def visualize(X : ndarray[float], idx : ndarray[int], centroids : Union[ndarray[float], list]) -> Optional[AssertionError]:\n",
        "    \"\"\"Visualize the clusters and the centroid of each cluster.\n",
        "\n",
        "    Parameters\n",
        "    ----------\n",
        "    X : numpy.ndarray, shape=(M, 1)\n",
        "        Encoded Data vector.\n",
        "\n",
        "    idx : numpy.ndarray, shape=(M, )\n",
        "        Represent the cluster each point is assigned to.\n",
        "\n",
        "    centroids : numpy.ndarray, shape=(K, 1)\n",
        "        Centroids of clusters.\n",
        "    \n",
        "    Notes\n",
        "    -----\n",
        "        This function only works with one feature.\n",
        "    \"\"\"\n",
        "\n",
        "    assert X.shape[1] == 1, \"This function only works with one feature\"\n",
        "    \n",
        "    #### Visualize the clustered data\n",
        "    df = pd.DataFrame(np.concatenate((X, idx.reshape(-1, 1)), axis=1), columns=['X', 'idx'])\n",
        "    sns.scatterplot(data=df, x='X', y='idx', hue='idx')\n",
        "\n",
        "    #### Plot the centroids\n",
        "    plt.scatter(centroids[0], 0, c='red', label='Centroid 0')\n",
        "    plt.scatter(centroids[1], 1, c='green', label='Centroid 1');\n",
        "    plt.legend()\n",
        "\n",
        "visualize(X, idx, centroids)"
      ]
    },
    {
      "cell_type": "markdown",
      "id": "i1ON8M5jrauB",
      "metadata": {
        "id": "i1ON8M5jrauB"
      },
      "source": [
        "## Quantum Clustering"
      ]
    },
    {
      "cell_type": "markdown",
      "id": "SlOhjg2EvLPu",
      "metadata": {
        "id": "SlOhjg2EvLPu"
      },
      "source": [
        "### Quantum Pre-processing"
      ]
    },
    {
      "cell_type": "code",
      "execution_count": 9,
      "id": "628db98f",
      "metadata": {},
      "outputs": [],
      "source": [
        "def init_state() -> ndarray:\n",
        "    \"\"\"\n",
        "    Set the initial state to the ground state (zero vector)\n",
        "\n",
        "    Returns\n",
        "    -------\n",
        "    numpy.ndarray, shape=(2, 1)\n",
        "        Zero vector.\n",
        "    \"\"\"\n",
        "\n",
        "    zero_vec = np.array([[1], [0]])\n",
        "\n",
        "    return zero_vec"
      ]
    },
    {
      "cell_type": "code",
      "execution_count": 10,
      "id": "084510bc",
      "metadata": {},
      "outputs": [],
      "source": [
        "def encode_data(init_state : ndarray[complex] , x : ndarray[float]) -> ndarray[complex]:\n",
        "    \"\"\"\n",
        "    Encode data on a qbit using rotatinal gate => RYGate()\n",
        "\n",
        "    Parameters\n",
        "    ----------\n",
        "    init_state : numpy.ndarray, shape=(2, 1)\n",
        "        The ground state.\n",
        "\n",
        "    x : numpy.ndarray, shape=(M, 1) | (K, 1)\n",
        "        Data vector or Centroids.\n",
        "\n",
        "    Returns\n",
        "    -------\n",
        "    numpy.ndarray, shape=(M, 2, 1)\n",
        "        The encoded data vector.\n",
        "        \n",
        "    Notes\n",
        "    -------\n",
        "    Here we start in an initial state ( zero vector) and apply a rotetinal gate\n",
        "    on this state using the value of each data point.\n",
        "    \"\"\"\n",
        "\n",
        "    evolved_state = []\n",
        "    for point in x:\n",
        "      ry = RYGate(float(point)).to_matrix()\n",
        "      encoded = ry @ init_state\n",
        "      evolved_state.append(encoded)\n",
        "\n",
        "    evolved_state = np.array(evolved_state)\n",
        "    \n",
        "    return evolved_state"
      ]
    },
    {
      "cell_type": "code",
      "execution_count": 11,
      "id": "76cb1168",
      "metadata": {},
      "outputs": [],
      "source": [
        "def calc_fidelity(state1: ndarray[complex]  , state2 : ndarray[complex]) -> float :\n",
        "    \"\"\"\n",
        "    Calculate the fidelity (inner product) between any two quantum states.\n",
        "\n",
        "    Returns the fidelity between the encoded data point and the encoced centroid.\n",
        "\n",
        "    Parameters\n",
        "    ----------\n",
        "    state1 : numpy.ndarray, shape=(2, 1)\n",
        "        The first state.\n",
        "\n",
        "    state2 : numpy.ndarray, shape=(2, 1)\n",
        "        The second state.\n",
        "\n",
        "    Returns\n",
        "    -------\n",
        "    float\n",
        "        Inner product of the states.\n",
        "\n",
        "    Notes\n",
        "    -----\n",
        "    the output should be a real scalar between 0 and 1.\n",
        "\n",
        "    \"\"\"\n",
        "    \n",
        "    return np.vdot(state1, state2).real"
      ]
    },
    {
      "cell_type": "code",
      "execution_count": 12,
      "id": "88Kiawl6vORj",
      "metadata": {
        "id": "88Kiawl6vORj"
      },
      "outputs": [],
      "source": [
        "def measure(state : ndarray[complex], observable : ndarray[complex]) -> float:\n",
        "    \"\"\"\n",
        "    Measure the state of the Qubit on the observable.\n",
        "\n",
        "    Parameters\n",
        "    ----------\n",
        "    state : numpy.ndarray, shape=(2, 1)\n",
        "        The state (Centroid).\n",
        "\n",
        "    observable : numpy.ndarray, shape=(2, 2)\n",
        "        The observable (ZGate).\n",
        "\n",
        "    Returns\n",
        "    -------\n",
        "    float\n",
        "        Classical output of the system.\n",
        "\n",
        "    \"\"\"\n",
        "    \n",
        "    return (state.conj().T @ observable @ state).real"
      ]
    },
    {
      "cell_type": "markdown",
      "id": "0a1f4d9b",
      "metadata": {},
      "source": [
        "#### Here we defined three essential functions to implement Quantum K-Means <br>\n",
        "- The first function is *`init_state`*,  Assuming our initial state is always zero vector with shape `(2, 1)`.  why?\n",
        "\n",
        "    - Because we have **one feuture** and a **singel Qubit** for encoding data in our system.<br>\n",
        "- The second function is *`encode_data`* this function is used to encode both Data and centroids <br>\n",
        "- The third function is *`calc_fidelity`* it only calculates the similarity between the data point and each cluster.<br>\n",
        "- The fourth function is *`measure`* it converts the state of the quantum system to a **real classical value**.(`irreversible process`)"
      ]
    },
    {
      "cell_type": "markdown",
      "id": "f206a00c",
      "metadata": {},
      "source": [
        "### Quantum K-Means\n",
        "- determine the number of clusters\n",
        "- randomly initialize the centroids\n",
        "- measure distances between data points and the centroids >> Fidelity\n",
        "  - Initialize three separable states in the ground state. One is for the data point and the other two represent the centroid.\n",
        "  - choose your encoding scheme\n",
        "  - using a for loop you will pick a classical point to measure the distance between the centroids and this sample.\n",
        "  - encode the data using the encoding scheme (rotational gates)\n",
        "  - apply the selected rotational gates on the states\n",
        "  - then calculate the fidelity between the two states (one state would represent the data point and the other would represent the centroid)\n",
        "- assign data points to the nearest centroid\n",
        "- update the position of the centroid according to the mean of each cluster"
      ]
    },
    {
      "cell_type": "code",
      "execution_count": 22,
      "id": "968372a1",
      "metadata": {},
      "outputs": [],
      "source": [
        "def kMeansInitCentroidsQ(X : ndarray[float], K: int) -> ndarray[complex]:\n",
        "    \"\"\"\n",
        "    Initialize the centroids of the clusters.\n",
        "\n",
        "    Returns an initial centroid for each cluster.\n",
        "\n",
        "    Parameters\n",
        "    ----------\n",
        "    X : numpy.ndarray, shape=(M, 1)\n",
        "        Data vector.\n",
        "\n",
        "    K : int\n",
        "        Number of clusters.\n",
        "\n",
        "    Returns\n",
        "    -------\n",
        "    numpy.ndarray, shape=(K, 2, 1)\n",
        "        Encoded initial centroids.\n",
        "    \"\"\"\n",
        "\n",
        "    M = X.shape[0]\n",
        "    choices = np.random.choice(M, K, replace=False)\n",
        "    centroids = X[choices]\n",
        "    init_state_arr = init_state()\n",
        "    encoded_centroids = encode_data(init_state_arr, centroids )\n",
        "    \n",
        "    return encoded_centroids"
      ]
    },
    {
      "cell_type": "code",
      "execution_count": 23,
      "id": "6e11da88",
      "metadata": {},
      "outputs": [],
      "source": [
        "def findClosestCentroidsQ(X : ndarray[complex], centroids : ndarray[complex]) -> ndarray[int]:\n",
        "    \"\"\"Find the closest centroids for each point.\n",
        "\n",
        "    Returns an array where each point is assigned to the closest cluster.\n",
        "\n",
        "    Parameters\n",
        "    ----------\n",
        "    X : numpy.ndarray, shape=(M, 2, 1)\n",
        "        Encoded data vector.\n",
        "\n",
        "\n",
        "    centroids : numpy.ndarray, shape=(K, 2, 1)\n",
        "        Represent the encoded centroids.\n",
        "\n",
        "    Returns\n",
        "    -------\n",
        "    numpy.ndarray, shape=(M, )\n",
        "        Array where each point is assigned to the closest cluster.\n",
        "    \"\"\" \n",
        "    M = X.shape[0]\n",
        "    idx = np.zeros(M)\n",
        "\n",
        "    \n",
        "    for i in range(M):\n",
        "        fids = []\n",
        "        for cent in centroids:\n",
        "            fidelity = calc_fidelity(X[i], cent)\n",
        "            fids.append(fidelity)\n",
        "        idx[i] = np.argmax(fids)\n",
        "\n",
        "    return idx"
      ]
    },
    {
      "cell_type": "code",
      "execution_count": 13,
      "id": "626cba6d",
      "metadata": {},
      "outputs": [],
      "source": [
        "def computeCentroidsQ(X : ndarray[complex], idx : ndarray[int], K : int = 2) -> ndarray[complex] :\n",
        "    \"\"\"Update the centroids of the clusters.\n",
        "\n",
        "    Returns a new centroid for each cluster.\n",
        "\n",
        "    Parameters\n",
        "    ----------\n",
        "    X : numpy.ndarray, shape=(M, 1)\n",
        "        Encoded Data vector.\n",
        "\n",
        "    idx : numpy.ndarray, shape=(M, )\n",
        "        Represent the cluster each point is assigned to.\n",
        "\n",
        "    K : int\n",
        "        Number of clusters.\n",
        "\n",
        "    Returns\n",
        "    -------\n",
        "    numpy.ndarray, shape=(K, 2, 1)\n",
        "        Updated centroids.\n",
        "    \"\"\" \n",
        "\n",
        "    centroids = np.zeros((K, 2, 1), dtype=complex)\n",
        "\n",
        "    for i in range(K):\n",
        "      cluster_points = X[idx == i]\n",
        "      if len(cluster_points) > 0:\n",
        "          centroids[i] = np.mean(cluster_points, axis=0)\n",
        "          \n",
        "    return centroids"
      ]
    },
    {
      "cell_type": "code",
      "execution_count": 14,
      "id": "d67fd646",
      "metadata": {},
      "outputs": [],
      "source": [
        "def k_meansQ(X : ndarray[float], k: int = 2, max_iter : int = 300) -> tuple[ndarray[complex], ndarray[int]]:\n",
        "    \"\"\"K-Means algorithm for clustring the data into K clusters.\n",
        "\n",
        "    Returns the centroids and an array where each point is assigned to the closest cluster.\n",
        "\n",
        "    Parameters\n",
        "    ----------\n",
        "    X : numpy.ndarray, shape=(M, 1)\n",
        "        Data vector.\n",
        "        \n",
        "    K : int\n",
        "        Number of clusters.\n",
        "        \n",
        "    max_iter : int\n",
        "        Number of iteration.\n",
        "        \n",
        "\n",
        "    Returns\n",
        "    -------\n",
        "    numpy.ndarray, shape=(K, 2, 1)\n",
        "        Represent the encoded centroids.\n",
        "\n",
        "    numpy.ndarray, shape=(M, 1)\n",
        "        Array where each point is assigned to the closest cluster.\n",
        "    \"\"\" \n",
        "    \n",
        "    centroids = kMeansInitCentroidsQ(X, k)\n",
        "\n",
        "    points_init_state = init_state()\n",
        "    encoded_X = encode_data(points_init_state, X)\n",
        "\n",
        "    for _ in range(max_iter):\n",
        "        idx = findClosestCentroidsQ(encoded_X, centroids)\n",
        "        centroids = computeCentroidsQ(encoded_X, idx, k)\n",
        "        \n",
        "    return centroids, idx"
      ]
    },
    {
      "cell_type": "markdown",
      "id": "0832c1ab",
      "metadata": {},
      "source": [
        "### Running Quantum K-Mean"
      ]
    },
    {
      "cell_type": "code",
      "execution_count": 17,
      "id": "d4975d16",
      "metadata": {},
      "outputs": [],
      "source": [
        "centroids_encoded, idx = k_meansQ(X, 2, 200)"
      ]
    },
    {
      "cell_type": "markdown",
      "id": "8bbbdcd0",
      "metadata": {},
      "source": [
        "### Measuring Centroids"
      ]
    },
    {
      "cell_type": "code",
      "execution_count": 24,
      "id": "4a6626ea",
      "metadata": {},
      "outputs": [
        {
          "data": {
            "text/plain": [
              "(2, 2)"
            ]
          },
          "execution_count": 24,
          "metadata": {},
          "output_type": "execute_result"
        }
      ],
      "source": [
        "# hamiltonian or Observable\n",
        "z_gate = ZGate().to_matrix()\n",
        "y_gate = YGate().to_matrix()\n",
        "x_gate = XGate().to_matrix()\n",
        "\n",
        "z_gate.shape"
      ]
    },
    {
      "cell_type": "code",
      "execution_count": 29,
      "id": "ca002788",
      "metadata": {},
      "outputs": [
        {
          "data": {
            "text/plain": [
              "[array(0.90784291), array(-0.9074525)]"
            ]
          },
          "execution_count": 29,
          "metadata": {},
          "output_type": "execute_result"
        }
      ],
      "source": [
        "centroids = []\n",
        "# centroids.append(measure(centroids_encoded[0], z_gate).squeeze())\n",
        "# centroids.append(measure(centroids_encoded[1], z_gate).squeeze())\n",
        "centroids.append(measure(centroids_encoded[0], x_gate).squeeze())\n",
        "centroids.append(measure(centroids_encoded[1], x_gate).squeeze())\n",
        "# centroids.append(measure(centroids_encoded[0], y_gate).squeeze())\n",
        "# centroids.append(measure(centroids_encoded[1], y_gate).squeeze())\n",
        "centroids"
      ]
    },
    {
      "cell_type": "markdown",
      "id": "1c73783d",
      "metadata": {},
      "source": [
        "### Cluster Evaluation"
      ]
    },
    {
      "cell_type": "code",
      "execution_count": 26,
      "id": "4e2cfcf8",
      "metadata": {},
      "outputs": [
        {
          "data": {
            "text/plain": [
              "0.9708670507986779"
            ]
          },
          "execution_count": 26,
          "metadata": {},
          "output_type": "execute_result"
        }
      ],
      "source": [
        "silhouette_score(X, idx)"
      ]
    },
    {
      "cell_type": "markdown",
      "id": "851bea2b",
      "metadata": {},
      "source": [
        "### Visualize The Clusters and the centroids"
      ]
    },
    {
      "cell_type": "code",
      "execution_count": 21,
      "id": "a167d61c",
      "metadata": {},
      "outputs": [
        {
          "data": {
            "image/png": "[encoded data removed]",
            "text/plain": [
              "<Figure size 640x480 with 1 Axes>"
            ]
          },
          "metadata": {},
          "output_type": "display_data"
        }
      ],
      "source": [
        "visualize(X, idx, centroids)"
      ]
    },
    {
      "cell_type": "markdown",
      "metadata": {},
      "source": [
        "## Observations\n",
        "- Enconding the date with RYGate -> results in a better clustring specially with measuring on the x-axis.\n",
        "- The output of the quantum system when measured is constrained between `-1 and 1` because the eigenvalues of observables are `-1 and 1`, there for it will be better to scale the data in this range.\n",
        "- Measuring on the same axis of encoding yeilds unuseful results."
      ]
    },
    {
      "cell_type": "markdown",
      "id": "d8d87167",
      "metadata": {},
      "source": [
        "---\n",
        "$$ Good \\space Luck ✨$$ "
      ]
    }
  ],
  "metadata": {
    "colab": {
      "provenance": []
    },
    "kernelspec": {
      "display_name": "Python 3 (ipykernel)",
      "language": "python",
      "name": "python3"
    },
    "language_info": {
      "codemirror_mode": {
        "name": "ipython",
        "version": 3
      },
      "file_extension": ".py",
      "mimetype": "text/x-python",
      "name": "python",
      "nbconvert_exporter": "python",
      "pygments_lexer": "ipython3",
      "version": "3.10.3"
    }
  },
  "nbformat": 4,
  "nbformat_minor": 5
}
